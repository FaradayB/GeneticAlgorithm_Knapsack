{
 "cells": [
  {
   "cell_type": "markdown",
   "metadata": {},
   "source": [
    "# **TUGAS BESAR AI Kelompok 6**"
   ]
  },
  {
   "cell_type": "markdown",
   "metadata": {},
   "source": [
    "### Anggota Kelompok:\n",
    "1. Amalul Anugrah Amin (1103213054)\n",
    "2. Faraday Barr Fatahillah (1103213028)\n",
    "3. Purwantoro Aji Nugroho (1103213002)"
   ]
  },
  {
   "cell_type": "markdown",
   "metadata": {},
   "source": [
    "#### Mengambil data menggunakan csv file"
   ]
  },
  {
   "cell_type": "code",
   "execution_count": 15,
   "metadata": {},
   "outputs": [
    {
     "data": {
      "text/html": [
       "<div>\n",
       "<style scoped>\n",
       "    .dataframe tbody tr th:only-of-type {\n",
       "        vertical-align: middle;\n",
       "    }\n",
       "\n",
       "    .dataframe tbody tr th {\n",
       "        vertical-align: top;\n",
       "    }\n",
       "\n",
       "    .dataframe thead th {\n",
       "        text-align: right;\n",
       "    }\n",
       "</style>\n",
       "<table border=\"1\" class=\"dataframe\">\n",
       "  <thead>\n",
       "    <tr style=\"text-align: right;\">\n",
       "      <th></th>\n",
       "      <th>Kode</th>\n",
       "      <th>Barang</th>\n",
       "      <th>Berat</th>\n",
       "      <th>Prioritas</th>\n",
       "    </tr>\n",
       "  </thead>\n",
       "  <tbody>\n",
       "    <tr>\n",
       "      <th>0</th>\n",
       "      <td>B1</td>\n",
       "      <td>Charger Laptop</td>\n",
       "      <td>300</td>\n",
       "      <td>8</td>\n",
       "    </tr>\n",
       "    <tr>\n",
       "      <th>1</th>\n",
       "      <td>B2</td>\n",
       "      <td>Laptop</td>\n",
       "      <td>1400</td>\n",
       "      <td>9</td>\n",
       "    </tr>\n",
       "    <tr>\n",
       "      <th>2</th>\n",
       "      <td>B3</td>\n",
       "      <td>Power Bank</td>\n",
       "      <td>300</td>\n",
       "      <td>6</td>\n",
       "    </tr>\n",
       "    <tr>\n",
       "      <th>3</th>\n",
       "      <td>B4</td>\n",
       "      <td>Pouch Kabel Charger HP</td>\n",
       "      <td>100</td>\n",
       "      <td>7</td>\n",
       "    </tr>\n",
       "    <tr>\n",
       "      <th>4</th>\n",
       "      <td>B5</td>\n",
       "      <td>ANC Headset</td>\n",
       "      <td>300</td>\n",
       "      <td>5</td>\n",
       "    </tr>\n",
       "  </tbody>\n",
       "</table>\n",
       "</div>"
      ],
      "text/plain": [
       "  Kode                  Barang  Berat  Prioritas\n",
       "0   B1          Charger Laptop    300          8\n",
       "1   B2                  Laptop   1400          9\n",
       "2   B3              Power Bank    300          6\n",
       "3   B4  Pouch Kabel Charger HP    100          7\n",
       "4   B5             ANC Headset    300          5"
      ]
     },
     "execution_count": 15,
     "metadata": {},
     "output_type": "execute_result"
    }
   ],
   "source": [
    "import pandas as pd                         #Library pandas untuk mengolah data file CSV\n",
    "import random                               #Library untuk generate random numbers\n",
    "\n",
    "df = pd.read_csv('Carry_Items.csv')         #Membaca file CSV\n",
    "df.head(16)                                 #Menampilkan isi file CSV (16 karena terdapat 16 data)"
   ]
  },
  {
   "cell_type": "markdown",
   "metadata": {},
   "source": []
  },
  {
   "cell_type": "code",
   "execution_count": 2,
   "metadata": {},
   "outputs": [],
   "source": [
    "def initiate_Population():\n",
    "    list_Population = []\n",
    "    \n",
    "    for _ in range(4):\n",
    "        chromosome = [random.randint(0,1) for _ in range(df.shape[0])]\n",
    "        list_Population.append(chromosome)\n",
    "    \n",
    "    return list_Population\n",
    "        \n",
    "\n",
    "# innitiate_Population()"
   ]
  },
  {
   "cell_type": "code",
   "execution_count": 3,
   "metadata": {},
   "outputs": [],
   "source": [
    "import copy\n",
    "\n",
    "# def fitness_func(list_popu, weight_cond):\n",
    "def fitness_func():\n",
    "    list_pop = initiate_Population()\n",
    "    listpopAwal = copy.deepcopy(list_pop)\n",
    "    # list_pop = list_popu\n",
    "    \n",
    "    for i in range(len(list_pop)):\n",
    "        for j in range(len(list_pop[i])):\n",
    "            if list_pop[i][j] == 1:\n",
    "                list_pop[i][j] = df.iloc[j, 2]\n",
    "            else:\n",
    "                list_pop[i][j] = 0\n",
    "\n",
    "    index = 0\n",
    "    while index < len(list_pop):\n",
    "        # print(sum(list_pop[index]))\n",
    "        # if sum(list_pop[index]) > weight_cond:\n",
    "        if sum(list_pop[index]) > 3000:\n",
    "            while sum(list_pop[index]) > 3000:\n",
    "                chromosome = [random.randint(0,1) for _ in range(df.shape[0])]\n",
    "                list_pop[index] = chromosome\n",
    "            \n",
    "        # print(f\"list_Pop k-{index}\", list_pop[index])\n",
    "        for l in range(len(list_pop[index])):\n",
    "            # print(f\"l = {l}\")\n",
    "            if list_pop[index][l] != 0:\n",
    "                list_pop[index][l] = df.iloc[l, 3]\n",
    "                # print(f\"list_pop k-{index} l-{l}\", list_pop[index][l])\n",
    "            else:\n",
    "                continue\n",
    "        # print(f\"list_pop k\", list_pop[index])\n",
    "        index += 1\n",
    "\n",
    "    # for x in list_pop: print(x)\n",
    "    # for i in listpopAwal: print(i)\n",
    "    \n",
    "    return list_pop, listpopAwal\n",
    "\n",
    "# x, y = fitness_func()\n"
   ]
  },
  {
   "cell_type": "code",
   "execution_count": 9,
   "metadata": {},
   "outputs": [],
   "source": [
    "from table import table_popu\n",
    "def selection_func():\n",
    "    list_pop, list_popAwal = fitness_func()\n",
    "    cumulative_prob = table_popu(list_pop, list_popAwal)\n",
    "    # print(list_popAwal)\n",
    "    # print(cumulative_prob)\n",
    "    \n",
    "    rand_R = [round(random.uniform(0, 1), 2) for _ in range(len(list_pop))]\n",
    "    print(f'Random selected probability: {rand_R}')\n",
    "    \n",
    "    # print(sum(cumulative_prob[0:1]))\n",
    "    # print(sum(cumulative_prob[0:2]))\n",
    "    # print(sum(cumulative_prob[0:3]))             \n",
    "    parent = []\n",
    "    \n",
    "    for rand_val in rand_R:\n",
    "        cumulative_sum = 0\n",
    "        for i, prob in enumerate(cumulative_prob):\n",
    "            cumulative_sum += prob\n",
    "            if rand_val <= cumulative_sum:\n",
    "                parent.append(i)\n",
    "                break\n",
    "            \n",
    "    print(f\"Selected parent: {parent}\")\n",
    "    \n",
    "    return parent, list_popAwal"
   ]
  },
  {
   "cell_type": "code",
   "execution_count": 13,
   "metadata": {},
   "outputs": [
    {
     "name": "stdout",
     "output_type": "stream",
     "text": [
      "Chromosome            Individu    Fitness    Relative Fitness    Cumulative Fitness  Chromosome Area\n",
      "------------  ----------------  ---------  ------------------  --------------------  -----------------\n",
      "k0            1101100000111010     58.000               0.309                 0.309  0.0 - 0.309\n",
      "k1            1011010110011101     48.000               0.255                 0.564  0.309 - 0.564\n",
      "k2            0011011010010010     39.000               0.207                 0.771  0.564 - 0.771\n",
      "k3            0011101010101010     43.000               0.229                 1.000  0.771 - 1.0\n",
      "Random selected probability: [0.04, 0.13, 0.43, 0.17]\n",
      "Selected parent: [0, 0, 1, 0]\n",
      "0.01\n",
      "[0.12, 0.97]\n"
     ]
    }
   ],
   "source": [
    "def crover_function():\n",
    "    parent, list_popAwal = selection_func()\n",
    "    \n",
    "    prob_crover = round(random.uniform(0,1), 2)\n",
    "    r_crover = [round(random.uniform(0,1), 2) for _ in range(int(len(list_popAwal)/2))]\n",
    "    \n",
    "\n",
    "crover_function()"
   ]
  }
 ],
 "metadata": {
  "kernelspec": {
   "display_name": "Python 3",
   "language": "python",
   "name": "python3"
  },
  "language_info": {
   "codemirror_mode": {
    "name": "ipython",
    "version": 3
   },
   "file_extension": ".py",
   "mimetype": "text/x-python",
   "name": "python",
   "nbconvert_exporter": "python",
   "pygments_lexer": "ipython3",
   "version": "3.9.6"
  }
 },
 "nbformat": 4,
 "nbformat_minor": 2
}
